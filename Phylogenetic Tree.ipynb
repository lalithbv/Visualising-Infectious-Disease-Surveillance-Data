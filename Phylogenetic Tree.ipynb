{
 "cells": [
  {
   "cell_type": "code",
   "execution_count": 1,
   "metadata": {},
   "outputs": [],
   "source": [
    "#import Biopython\n",
    "import Bio as Bio"
   ]
  },
  {
   "cell_type": "code",
   "execution_count": 2,
   "metadata": {},
   "outputs": [],
   "source": [
    "from Bio import SeqIO\n",
    "from Bio import AlignIO\n",
    "from Bio import Phylo"
   ]
  },
  {
   "cell_type": "code",
   "execution_count": 3,
   "metadata": {},
   "outputs": [],
   "source": [
    "#import the nucleotide sequences \n",
    "t1 = SeqIO.read(\"A(H3N2).fasta\", \"fasta\")\n",
    "t2 = SeqIO.read(\"A(H1N1)pmd09.fasta\", \"fasta\")\n",
    "t3 = SeqIO.read(\"A(H1N1).fasta\", \"fasta\")\n",
    "t4 = SeqIO.read(\"B.fasta\", \"fasta\")\n",
    "t5 = SeqIO.read(\"C.fasta\", \"fasta\")\n",
    "t6 = SeqIO.read(\"A&B.fasta\", \"fasta\")"
   ]
  },
  {
   "cell_type": "code",
   "execution_count": 4,
   "metadata": {},
   "outputs": [],
   "source": [
    "#rename each of the sequences \n",
    "t1.id = 'A(H3N2)'\n",
    "t2.id = 'A(H1N1)pmd09'\n",
    "t3.id = 'A(H1N1)'\n",
    "t4.id = 'B'\n",
    "t5.id = 'C'\n",
    "t6.id = 'A&B'"
   ]
  },
  {
   "cell_type": "code",
   "execution_count": 5,
   "metadata": {},
   "outputs": [
    {
     "name": "stdout",
     "output_type": "stream",
     "text": [
      "KP747648.1 Nicotiana benthamiana promoter and 5' UTR-like (H1N1) gene, promoter region\n"
     ]
    }
   ],
   "source": [
    "print(t3.description)"
   ]
  },
  {
   "cell_type": "code",
   "execution_count": 6,
   "metadata": {},
   "outputs": [],
   "source": [
    "# Combine all of the individual sequences into a new file \n",
    "influenza_seq = SeqIO.write([t1,t2,t3,t4,t5,t6], \"influenza.fasta\", \"fasta\")"
   ]
  },
  {
   "cell_type": "code",
   "execution_count": 7,
   "metadata": {},
   "outputs": [],
   "source": [
    "# Load the influenza_seq sequences into MUSCLE \n",
    "# https://www.ebi.ac.uk/Tools/msa/muscle/\n",
    "# Upload the new alignment file to your folder or working directory "
   ]
  },
  {
   "cell_type": "code",
   "execution_count": 8,
   "metadata": {},
   "outputs": [
    {
     "name": "stdout",
     "output_type": "stream",
     "text": [
      "<class 'Bio.Align.MultipleSeqAlignment'>\n"
     ]
    }
   ],
   "source": [
    "# Open the alignment file as a MultipleSeqAlignment object \n",
    "with open(\"influenza_aln.clw\",\"r\") as aln: \n",
    "    alignment = AlignIO.read(aln,\"clustal\")\n",
    "print(type(alignment))"
   ]
  },
  {
   "cell_type": "code",
   "execution_count": 9,
   "metadata": {},
   "outputs": [],
   "source": [
    "# Open and initiate the Distance Calculator using the Identity model \n",
    "from Bio.Phylo.TreeConstruction import DistanceCalculator \n",
    "calculator = DistanceCalculator('identity')"
   ]
  },
  {
   "cell_type": "code",
   "execution_count": 10,
   "metadata": {},
   "outputs": [
    {
     "name": "stdout",
     "output_type": "stream",
     "text": [
      "A&B\t0\n",
      "A(H1N1)\t0.4934948407357559\t0\n",
      "C\t0.45984746523104536\t0.4638851502916106\t0\n",
      "A(H3N2)\t0.45580978017048\t0.4724091520861373\t0.3947958725886047\t0\n",
      "A(H1N1)pmd09\t0.7972184836249439\t0.762673844773441\t0.7837595334230597\t0.7200538358008075\t0\n",
      "B\t0.4751009421265141\t0.5154777927321669\t0.45984746523104536\t0.5123373710183938\t0.9600717810677434\t0\n",
      "\tA&B\tA(H1N1)\tC\tA(H3N2)\tA(H1N1)pmd09\tB\n"
     ]
    }
   ],
   "source": [
    "# Write the Distance Matrix \n",
    "distance_matrix = calculator.get_distance(alignment)\n",
    "print(distance_matrix)"
   ]
  },
  {
   "cell_type": "code",
   "execution_count": 11,
   "metadata": {},
   "outputs": [],
   "source": [
    "# Open and initiate the Tree Constructor \n",
    "from Bio.Phylo.TreeConstruction import DistanceTreeConstructor\n",
    "constructor = DistanceTreeConstructor(calculator)"
   ]
  },
  {
   "cell_type": "code",
   "execution_count": 12,
   "metadata": {},
   "outputs": [
    {
     "name": "stdout",
     "output_type": "stream",
     "text": [
      "Tree(rooted=True)\n",
      "    Clade(branch_length=0, name='Inner4')\n",
      "        Clade(branch_length=0.020524899057873414, name='Inner3')\n",
      "            Clade(branch_length=0.1906684611933603, name='C')\n",
      "            Clade(branch_length=0.031628532974428, name='Inner1')\n",
      "                Clade(branch_length=0.2677209510991477, name='B')\n",
      "                Clade(branch_length=0.20737999102736643, name='A&B')\n",
      "        Clade(branch_length=0.025908479138627233, name='Inner2')\n",
      "            Clade(branch_length=0.5382832361298042, name='A(H1N1)pmd09')\n",
      "            Clade(branch_length=0.2243906086436368, name='A(H1N1)')\n",
      "        Clade(branch_length=0.1889860924181247, name='A(H3N2)')\n"
     ]
    }
   ],
   "source": [
    "# Build the tree \n",
    "influenza_tree = constructor.build_tree(alignment)\n",
    "influenza_tree.rooted = True\n",
    "print(influenza_tree)"
   ]
  },
  {
   "cell_type": "code",
   "execution_count": 13,
   "metadata": {},
   "outputs": [
    {
     "data": {
      "text/plain": [
       "1"
      ]
     },
     "execution_count": 13,
     "metadata": {},
     "output_type": "execute_result"
    }
   ],
   "source": [
    "# Save the tree to a new file \n",
    "Phylo.write(influenza_tree, \"influenza_tree.xml\", \"phyloxml\")"
   ]
  },
  {
   "cell_type": "code",
   "execution_count": 16,
   "metadata": {},
   "outputs": [],
   "source": [
    "# Import matplotlib\n",
    "import matplotlib\n",
    "import matplotlib.pyplot as plt"
   ]
  },
  {
   "cell_type": "code",
   "execution_count": 15,
   "metadata": {},
   "outputs": [
    {
     "data": {
      "image/png": "[encoded data removed]",
      "text/plain": [
       "<Figure size 1300x600 with 1 Axes>"
      ]
     },
     "metadata": {
      "needs_background": "light"
     },
     "output_type": "display_data"
    }
   ],
   "source": [
    "fig = plt.figure(figsize=(13, 6), dpi=100) # create figure & set the size \n",
    "matplotlib.rc('font', size=12)              # fontsize of the leaf and node labels \n",
    "matplotlib.rc('xtick', labelsize=10)       # fontsize of the tick labels\n",
    "matplotlib.rc('ytick', labelsize=10)       # fontsize of the tick labels\n",
    "axes = fig.add_subplot(1, 1, 1)\n",
    "Phylo.draw(influenza_tree, axes=axes)\n",
    "fig.savefig(\"influenza_tree\")"
   ]
  },
  {
   "cell_type": "code",
   "execution_count": null,
   "metadata": {},
   "outputs": [],
   "source": []
  }
 ],
 "metadata": {
  "kernelspec": {
   "display_name": "Python 3 (ipykernel)",
   "language": "python",
   "name": "python3"
  },
  "language_info": {
   "codemirror_mode": {
    "name": "ipython",
    "version": 3
   },
   "file_extension": ".py",
   "mimetype": "text/x-python",
   "name": "python",
   "nbconvert_exporter": "python",
   "pygments_lexer": "ipython3",
   "version": "3.9.7"
  }
 },
 "nbformat": 4,
 "nbformat_minor": 4
}
